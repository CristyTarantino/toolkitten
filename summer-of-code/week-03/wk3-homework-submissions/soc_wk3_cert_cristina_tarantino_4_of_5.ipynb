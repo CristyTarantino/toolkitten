{
 "cells": [
  {
   "cell_type": "markdown",
   "metadata": {},
   "source": [
    "# 1 Million Women To Tech:  Summer of Code\n",
    "\n",
    "## Week 3 - Intro to NLP \n",
    "\n",
    "### Day 4 Homeworks - Cristina Tarantino"
   ]
  },
  {
   "cell_type": "code",
   "execution_count": 3,
   "metadata": {},
   "outputs": [],
   "source": [
    "import nltk"
   ]
  },
  {
   "cell_type": "markdown",
   "metadata": {},
   "source": [
    "# Exercises on Regular Expressions\n",
    "\n",
    "## Chapter 3 n.6\n",
    "\n",
    "☼ Describe the class of strings matched by the following regular expressions.\n",
    "    1. [a-zA-Z]+\n",
    "    2. [A-Z][a-z]*\n",
    "    3. p[aeiou]{,2}t\n",
    "    4. \\d+(\\.\\d+)?\n",
    "    5. ([^aeiou][aeiou][^aeiou])*\n",
    "    6. \\w+|[^\\w\\s]+\n",
    "\n",
    "Test your answers using nltk.re_show()."
   ]
  },
  {
   "cell_type": "code",
   "execution_count": 12,
   "metadata": {},
   "outputs": [
    {
     "name": "stdout",
     "output_type": "stream",
     "text": [
      "{Cioa} {io} {sono} {Cristina}\n"
     ]
    }
   ],
   "source": [
    "# 1 - one or more letters\n",
    "nltk.re_show(r'[a-zA-Z]+', 'Ciao io sono Cristina')"
   ]
  },
  {
   "cell_type": "code",
   "execution_count": 15,
   "metadata": {},
   "outputs": [
    {
     "name": "stdout",
     "output_type": "stream",
     "text": [
      "{Ciao} io sono {Cristina}\n"
     ]
    }
   ],
   "source": [
    "# 2 - one capital letter and zero or more lowercase letters\n",
    "nltk.re_show(r'[A-Z][a-z]*', 'Ciao io sono Cristina')"
   ]
  },
  {
   "cell_type": "code",
   "execution_count": 30,
   "metadata": {},
   "outputs": [
    {
     "name": "stdout",
     "output_type": "stream",
     "text": [
      "Mi piacciono i {pet}tirossi\n"
     ]
    }
   ],
   "source": [
    "# 3 - a word starting with p, followed by 0 up to 2 vowels and ending with t\n",
    "nltk.re_show(r'p[aeiou]{,2}t', 'Mi piacciono i pettirossi')"
   ]
  },
  {
   "cell_type": "code",
   "execution_count": 36,
   "metadata": {},
   "outputs": [
    {
     "name": "stdout",
     "output_type": "stream",
     "text": [
      "Sono nata il {12}\n"
     ]
    }
   ],
   "source": [
    "# 4 - integer or decimal number\n",
    "nltk.re_show(r'\\d+(\\.\\d+)?', 'Sono nata il 12')"
   ]
  },
  {
   "cell_type": "code",
   "execution_count": 42,
   "metadata": {},
   "outputs": [
    {
     "name": "stdout",
     "output_type": "stream",
     "text": [
      "{}T{his} {}s{}h{}o{}u{}l{}d{} {mat}c{}h{} {lol} {pop} {tet} {pip} {cot an}d{}\n"
     ]
    }
   ],
   "source": [
    "# 5. starts with a non_vowel - vowel - non_vowel and empty strings\n",
    "nltk.re_show(r'([^aeiou][aeiou][^aeiou])*', 'This should match lol pop tet pip cot and    ')"
   ]
  },
  {
   "cell_type": "code",
   "execution_count": 54,
   "metadata": {},
   "outputs": [
    {
     "name": "stdout",
     "output_type": "stream",
     "text": [
      "{This} {should} {match} {1234} {and} {!!!}\n",
      "\n"
     ]
    }
   ],
   "source": [
    "# 6 - one or more alphanumeric characters or(|) one or more charcters that are neither alpahnumeric nor whitespace\n",
    "nltk.re_show(r'\\w+|[^\\w\\s]+', 'This should match 1234 and !!!')\n",
    "nltk.re_show(r'\\w+|[^\\w\\s]+', ' ')"
   ]
  },
  {
   "cell_type": "markdown",
   "metadata": {},
   "source": [
    "# Exercises on Regular Expressions\n",
    "## Chapter 3 n.6\n",
    "\n",
    "☼ Write regular expressions to match the following classes of strings:\n",
    "\n",
    "    1. A single determiner (assume that a, an, and the are the only determiners).\n",
    "    2. An arithmetic expression using integers, addition, and multiplication, such as 2*3+8."
   ]
  },
  {
   "cell_type": "code",
   "execution_count": 61,
   "metadata": {},
   "outputs": [
    {
     "name": "stdout",
     "output_type": "stream",
     "text": [
      "The world can be a better place\n",
      "{the}\n",
      "{a}\n",
      "An\n",
      "{a}\n"
     ]
    }
   ],
   "source": [
    "a = r'^(the|a|an)$'\n",
    "nltk.re_show(a, 'The world can be a better place')\n",
    "nltk.re_show(a, 'the')\n",
    "nltk.re_show(a, 'a')\n",
    "nltk.re_show(a, 'An')\n",
    "nltk.re_show(a, 'a')"
   ]
  },
  {
   "cell_type": "code",
   "execution_count": 65,
   "metadata": {},
   "outputs": [
    {
     "name": "stdout",
     "output_type": "stream",
     "text": [
      "something+2\n",
      "{2*3+8}\n",
      "{200+5000}\n",
      "{2*3+8}-5/6\n"
     ]
    }
   ],
   "source": [
    "b = r'\\d+([\\+\\*]\\d+)+'\n",
    "nltk.re_show(b, 'something+2')\n",
    "nltk.re_show(b, '2*3+8')\n",
    "nltk.re_show(b, '200+5000')\n",
    "nltk.re_show(b, '2*3+8-5/6')"
   ]
  }
 ],
 "metadata": {
  "kernelspec": {
   "display_name": "Python 3",
   "language": "python",
   "name": "python3"
  },
  "language_info": {
   "codemirror_mode": {
    "name": "ipython",
    "version": 3
   },
   "file_extension": ".py",
   "mimetype": "text/x-python",
   "name": "python",
   "nbconvert_exporter": "python",
   "pygments_lexer": "ipython3",
   "version": "3.6.5"
  }
 },
 "nbformat": 4,
 "nbformat_minor": 2
}
