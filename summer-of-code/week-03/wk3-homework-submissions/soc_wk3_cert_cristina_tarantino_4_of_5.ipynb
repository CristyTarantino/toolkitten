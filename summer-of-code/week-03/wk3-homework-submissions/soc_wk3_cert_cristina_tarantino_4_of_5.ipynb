{
 "cells": [
  {
   "cell_type": "markdown",
   "metadata": {},
   "source": [
    "# 1 Million Women To Tech:  Summer of Code\n",
    "\n",
    "## Week 3 - Intro to NLP \n",
    "\n",
    "### Day 3 Homeworks - Cristina Tarantino"
   ]
  },
  {
   "cell_type": "markdown",
   "metadata": {},
   "source": [
    "Do research to see what Python libraries are already in existence that you could start using in your day-job, or daily life.\n",
    "\n",
    "- I often use libraries for getting url and consume apis\n",
    "    - json\n",
    "    - request "
   ]
  },
  {
   "cell_type": "code",
   "execution_count": null,
   "metadata": {},
   "outputs": [],
   "source": [
    "import json\n",
    "import requests"
   ]
  },
  {
   "cell_type": "markdown",
   "metadata": {},
   "source": [
    "# Exercises on WordNet\n",
    "\n",
    "## Chapter 2 n.5\n",
    "\n",
    "☼ Investigate the holonym-meronym relations for some nouns. Remember that there are three kinds of holonym-meronym relation, so you need to use: member_meronyms(), part_meronyms(), substance_meronyms(), member_holonyms(), part_holonyms(), and substance_holonyms().\n",
    "\n",
    "N.B.\n",
    "- **meronyms** of a noun are the noun's components. \n",
    "    - For example, the **parts of a tree** are its trunk, crown, and so on; the **part_meronyms()**\n",
    "    - The **substance a tree is made of** includes heartwood and sapwood; the **substance_meronyms()**.\n",
    "- **holonyms** of a noun are the category they are contained in.\n",
    "    - A **collection of trees** forms a forest; the **member_holonyms()**."
   ]
  },
  {
   "cell_type": "code",
   "execution_count": 178,
   "metadata": {},
   "outputs": [
    {
     "name": "stdout",
     "output_type": "stream",
     "text": [
      "[nltk_data] Downloading collection 'book'\n",
      "[nltk_data]    | \n",
      "[nltk_data]    | Downloading package abc to ./nltk_data...\n",
      "[nltk_data]    |   Package abc is already up-to-date!\n",
      "[nltk_data]    | Downloading package brown to ./nltk_data...\n",
      "[nltk_data]    |   Package brown is already up-to-date!\n",
      "[nltk_data]    | Downloading package chat80 to ./nltk_data...\n",
      "[nltk_data]    |   Package chat80 is already up-to-date!\n",
      "[nltk_data]    | Downloading package cmudict to ./nltk_data...\n",
      "[nltk_data]    |   Package cmudict is already up-to-date!\n",
      "[nltk_data]    | Downloading package conll2000 to ./nltk_data...\n",
      "[nltk_data]    |   Package conll2000 is already up-to-date!\n",
      "[nltk_data]    | Downloading package conll2002 to ./nltk_data...\n",
      "[nltk_data]    |   Package conll2002 is already up-to-date!\n",
      "[nltk_data]    | Downloading package dependency_treebank to\n",
      "[nltk_data]    |     ./nltk_data...\n",
      "[nltk_data]    |   Package dependency_treebank is already up-to-date!\n",
      "[nltk_data]    | Downloading package genesis to ./nltk_data...\n",
      "[nltk_data]    |   Package genesis is already up-to-date!\n",
      "[nltk_data]    | Downloading package gutenberg to ./nltk_data...\n",
      "[nltk_data]    |   Package gutenberg is already up-to-date!\n",
      "[nltk_data]    | Downloading package ieer to ./nltk_data...\n",
      "[nltk_data]    |   Package ieer is already up-to-date!\n",
      "[nltk_data]    | Downloading package inaugural to ./nltk_data...\n",
      "[nltk_data]    |   Package inaugural is already up-to-date!\n",
      "[nltk_data]    | Downloading package movie_reviews to ./nltk_data...\n",
      "[nltk_data]    |   Package movie_reviews is already up-to-date!\n",
      "[nltk_data]    | Downloading package nps_chat to ./nltk_data...\n",
      "[nltk_data]    |   Package nps_chat is already up-to-date!\n",
      "[nltk_data]    | Downloading package names to ./nltk_data...\n",
      "[nltk_data]    |   Package names is already up-to-date!\n",
      "[nltk_data]    | Downloading package ppattach to ./nltk_data...\n",
      "[nltk_data]    |   Package ppattach is already up-to-date!\n",
      "[nltk_data]    | Downloading package reuters to ./nltk_data...\n",
      "[nltk_data]    |   Package reuters is already up-to-date!\n",
      "[nltk_data]    | Downloading package senseval to ./nltk_data...\n",
      "[nltk_data]    |   Package senseval is already up-to-date!\n",
      "[nltk_data]    | Downloading package state_union to ./nltk_data...\n",
      "[nltk_data]    |   Package state_union is already up-to-date!\n",
      "[nltk_data]    | Downloading package stopwords to ./nltk_data...\n",
      "[nltk_data]    |   Package stopwords is already up-to-date!\n",
      "[nltk_data]    | Downloading package swadesh to ./nltk_data...\n",
      "[nltk_data]    |   Package swadesh is already up-to-date!\n",
      "[nltk_data]    | Downloading package timit to ./nltk_data...\n",
      "[nltk_data]    |   Package timit is already up-to-date!\n",
      "[nltk_data]    | Downloading package treebank to ./nltk_data...\n",
      "[nltk_data]    |   Package treebank is already up-to-date!\n",
      "[nltk_data]    | Downloading package toolbox to ./nltk_data...\n",
      "[nltk_data]    |   Package toolbox is already up-to-date!\n",
      "[nltk_data]    | Downloading package udhr to ./nltk_data...\n",
      "[nltk_data]    |   Package udhr is already up-to-date!\n",
      "[nltk_data]    | Downloading package udhr2 to ./nltk_data...\n",
      "[nltk_data]    |   Package udhr2 is already up-to-date!\n",
      "[nltk_data]    | Downloading package unicode_samples to ./nltk_data...\n",
      "[nltk_data]    |   Package unicode_samples is already up-to-date!\n",
      "[nltk_data]    | Downloading package webtext to ./nltk_data...\n",
      "[nltk_data]    |   Package webtext is already up-to-date!\n",
      "[nltk_data]    | Downloading package wordnet to ./nltk_data...\n",
      "[nltk_data]    |   Package wordnet is already up-to-date!\n",
      "[nltk_data]    | Downloading package wordnet_ic to ./nltk_data...\n",
      "[nltk_data]    |   Package wordnet_ic is already up-to-date!\n",
      "[nltk_data]    | Downloading package words to ./nltk_data...\n",
      "[nltk_data]    |   Package words is already up-to-date!\n",
      "[nltk_data]    | Downloading package maxent_treebank_pos_tagger to\n",
      "[nltk_data]    |     ./nltk_data...\n",
      "[nltk_data]    |   Package maxent_treebank_pos_tagger is already up-\n",
      "[nltk_data]    |       to-date!\n",
      "[nltk_data]    | Downloading package maxent_ne_chunker to\n",
      "[nltk_data]    |     ./nltk_data...\n",
      "[nltk_data]    |   Package maxent_ne_chunker is already up-to-date!\n",
      "[nltk_data]    | Downloading package universal_tagset to\n",
      "[nltk_data]    |     ./nltk_data...\n",
      "[nltk_data]    |   Package universal_tagset is already up-to-date!\n",
      "[nltk_data]    | Downloading package punkt to ./nltk_data...\n",
      "[nltk_data]    |   Package punkt is already up-to-date!\n",
      "[nltk_data]    | Downloading package book_grammars to ./nltk_data...\n",
      "[nltk_data]    |   Package book_grammars is already up-to-date!\n",
      "[nltk_data]    | Downloading package city_database to ./nltk_data...\n",
      "[nltk_data]    |   Package city_database is already up-to-date!\n",
      "[nltk_data]    | Downloading package tagsets to ./nltk_data...\n",
      "[nltk_data]    |   Package tagsets is already up-to-date!\n",
      "[nltk_data]    | Downloading package panlex_swadesh to ./nltk_data...\n",
      "[nltk_data]    |   Package panlex_swadesh is already up-to-date!\n",
      "[nltk_data]    | Downloading package averaged_perceptron_tagger to\n",
      "[nltk_data]    |     ./nltk_data...\n",
      "[nltk_data]    |   Package averaged_perceptron_tagger is already up-\n",
      "[nltk_data]    |       to-date!\n",
      "[nltk_data]    | \n",
      "[nltk_data]  Done downloading collection book\n",
      "[nltk_data] Downloading package wordnet to ./nltk_data...\n",
      "[nltk_data]   Package wordnet is already up-to-date!\n"
     ]
    }
   ],
   "source": [
    "import nltk, random\n",
    "import numpy as np\n",
    "import matplotlib.pyplot as plt\n",
    "\n",
    "nltk.download(\"book\", download_dir='./nltk_data')\n",
    "nltk.download(\"wordnet\", download_dir='./nltk_data')\n",
    "nltk.data.path.append('./nltk_data')\n",
    "from nltk.corpus import wordnet as wn\n",
    "from nltk.corpus import brown\n",
    "\n",
    "from collections import Counter"
   ]
  },
  {
   "cell_type": "code",
   "execution_count": 18,
   "metadata": {},
   "outputs": [],
   "source": [
    "def relations(noun):\n",
    "    noun_synset = wn.synset(noun)\n",
    "    print('Member Meronyms: ', noun_synset.member_meronyms())\n",
    "    print('Part Meronymns: ', noun_synset.part_meronyms())\n",
    "    print('Substance Meronyms: ', noun_synset.substance_meronyms())\n",
    "    print('Member Holonyms: ', noun_synset.member_holonyms())\n",
    "    print('Part Holonyms: ', noun_synset.part_holonyms())\n",
    "    print('Substance Holonyms: ', noun_synset.substance_holonyms())"
   ]
  },
  {
   "cell_type": "code",
   "execution_count": 32,
   "metadata": {},
   "outputs": [
    {
     "name": "stdout",
     "output_type": "stream",
     "text": [
      "Member Meronyms:  []\n",
      "Part Meronymns:  [Synset('burl.n.02'), Synset('crown.n.07'), Synset('limb.n.02'), Synset('stump.n.01'), Synset('trunk.n.01')]\n",
      "Substance Meronyms:  [Synset('heartwood.n.01'), Synset('sapwood.n.01')]\n",
      "Member Holonyms:  [Synset('forest.n.01')]\n",
      "Part Holonyms:  []\n",
      "Substance Holonyms:  []\n"
     ]
    }
   ],
   "source": [
    "wn.synsets('tree')[0]\n",
    "relations('tree.n.01')"
   ]
  },
  {
   "cell_type": "code",
   "execution_count": 48,
   "metadata": {},
   "outputs": [
    {
     "name": "stdout",
     "output_type": "stream",
     "text": [
      "Member Meronyms:  []\n",
      "Part Meronymns:  [Synset('achromatin.n.01'), Synset('chromatin.n.01'), Synset('chromosome.n.01'), Synset('linin.n.01'), Synset('nucleolus.n.01')]\n",
      "Substance Meronyms:  [Synset('nucleoplasm.n.01')]\n",
      "Member Holonyms:  []\n",
      "Part Holonyms:  [Synset('cell.n.02')]\n",
      "Substance Holonyms:  []\n"
     ]
    }
   ],
   "source": [
    "wn.synsets('nucleus')[0]\n",
    "relations('nucleus.n.01')"
   ]
  },
  {
   "cell_type": "code",
   "execution_count": 54,
   "metadata": {},
   "outputs": [
    {
     "name": "stdout",
     "output_type": "stream",
     "text": [
      "Member Meronyms:  []\n",
      "Part Meronymns:  [Synset('blackhead.n.01'), Synset('dermis.n.01'), Synset('epidermis.n.01'), Synset('freckle.n.01'), Synset('free_nerve_ending.n.01'), Synset('liver_spot.n.01'), Synset('macule.n.01'), Synset('pacinian_corpuscle.n.01'), Synset('pore.n.02'), Synset('pressure_point.n.03'), Synset('scab.n.02'), Synset('skin_cell.n.01'), Synset('sweat_gland.n.01'), Synset('whitehead.n.02'), Synset('wrinkle.n.01')]\n",
      "Substance Meronyms:  [Synset('melanin.n.01')]\n",
      "Member Holonyms:  []\n",
      "Part Holonyms:  [Synset('integumentary_system.n.01')]\n",
      "Substance Holonyms:  []\n"
     ]
    }
   ],
   "source": [
    "wn.synsets('skin')[0]\n",
    "relations('skin.n.01')"
   ]
  },
  {
   "cell_type": "markdown",
   "metadata": {},
   "source": [
    "# Exercises on WordNet\n",
    "\n",
    "## Chapter 2 n.13\n",
    "\n",
    "◑ What percentage of noun synsets have no hyponyms? You can get all noun synsets using wn.all_synsets('n')."
   ]
  },
  {
   "cell_type": "code",
   "execution_count": 81,
   "metadata": {},
   "outputs": [
    {
     "name": "stdout",
     "output_type": "stream",
     "text": [
      "80%\n"
     ]
    }
   ],
   "source": [
    "# transform `wn.all_synsets('n')` in a list of all the synsets\n",
    "all_syns = list(wn.all_synsets('n'))\n",
    "# for ever syn in all_syns get the syn if has no hyponyms\n",
    "no_hyponyms = [s for s in all_syns if len(s.hyponyms()) == 0]\n",
    "print(\"{}%\".format( round( len(no_hyponyms) / len(all_syns) * 100 )))"
   ]
  },
  {
   "cell_type": "markdown",
   "metadata": {},
   "source": [
    "# Exercises on WordNet\n",
    "\n",
    "## Chapter 2 n.14\n",
    "\n",
    "◑ Define a function supergloss(s) that takes a synset s as its argument and returns a string consisting of the concatenation of the definition of s, and the definitions of all the hypernyms and hyponyms of s."
   ]
  },
  {
   "cell_type": "code",
   "execution_count": 105,
   "metadata": {},
   "outputs": [],
   "source": [
    "def supergloss(s):\n",
    "    gloss = 'Definition: ' + s.definition() + '\\n\\n'\n",
    "    gloss += 'Hypernyms:\\n'\n",
    "    for hypernym in s.hypernyms():\n",
    "        gloss += hypernym.name() + ': ' + hypernym.definition() + '\\n'\n",
    "    gloss += '\\nHyponyms:\\n'\n",
    "    for hyponym in s.hyponyms():\n",
    "        gloss += hyponym.name() + ': ' + hyponym.definition() + '\\n'\n",
    "    return gloss"
   ]
  },
  {
   "cell_type": "code",
   "execution_count": 106,
   "metadata": {},
   "outputs": [
    {
     "name": "stdout",
     "output_type": "stream",
     "text": [
      "Definition: a natural protective body covering and site of the sense of touch\n",
      "\n",
      "Hypernyms:\n",
      "body_covering.n.01: any covering for the body or a body part\n",
      "connective_tissue.n.01: tissue of mesodermal origin consisting of e.g. collagen fibroblasts and fatty cells; supports organs and fills spaces between them and forms tendons and ligaments\n",
      "\n",
      "Hyponyms:\n",
      "buff.n.03: bare skin; naked\n",
      "cuticle.n.01: the dead skin at the base of a fingernail or toenail\n",
      "dewlap.n.01: a hanging fold of loose skin on an elderly person's neck\n",
      "hangnail.n.01: a loose narrow strip of skin near the base of a fingernail; tearing it produces a painful sore that is easily infected\n",
      "investment.n.04: outer layer or covering of an organ or part or organism\n",
      "prepuce.n.01: a fold of skin covering the tip of the clitoris\n",
      "prepuce.n.02: a fold of skin covering the tip of the penis\n",
      "scalp.n.01: the skin that covers the top of the head\n",
      "skin_graft.n.01: a piece of skin taken from a donor area and surgically grafted at the site of an injury or burn\n",
      "thick_skin.n.01: skin that is very thick (as an elephant or rhinoceros)\n",
      "\n"
     ]
    }
   ],
   "source": [
    "print(supergloss(wn.synset('skin.n.01')))"
   ]
  },
  {
   "cell_type": "code",
   "execution_count": 107,
   "metadata": {},
   "outputs": [
    {
     "name": "stdout",
     "output_type": "stream",
     "text": [
      "Definition: (biochemistry) a long linear polymer found in the nucleus of a cell and formed from nucleotides and shaped like a double helix; associated with the transmission of genetic information\n",
      "\n",
      "Hypernyms:\n",
      "polymer.n.01: a naturally occurring or synthetic compound consisting of large molecules made up of a linked series of repeated simple monomers\n",
      "\n",
      "Hyponyms:\n",
      "complementary_dna.n.01: single-stranded DNA that is complementary to messenger RNA or DNA that has been synthesized from messenger RNA by reverse transcriptase\n",
      "episome.n.01: DNA that is not incorporated into the genome but is replicated together with the genome (especially in bacterial cells)\n",
      "exon.n.01: sequence of a gene's DNA that transcribes into protein structures\n",
      "intron.n.01: sequence of a eukaryotic gene's DNA that is not translated into a protein\n",
      "junk_dna.n.01: stretches of DNA that do not code for genes\n",
      "operon.n.01: a segment of DNA containing adjacent genes including structural genes and an operator gene and a regulatory gene\n",
      "recombinant_deoxyribonucleic_acid.n.01: genetically engineered DNA made by recombining fragments of DNA from different organisms\n",
      "sticky_end.n.01: an end of DNA in which one strand of the double helix extends a few units beyond the other\n",
      "transposon.n.01: a segment of DNA that can become integrated at many different sites along a chromosome (especially a segment of bacterial DNA that can be translocated as a whole)\n",
      "\n"
     ]
    }
   ],
   "source": [
    "wn.synsets('dna')\n",
    "print(supergloss(wn.synset('deoxyribonucleic_acid.n.01')))"
   ]
  },
  {
   "cell_type": "markdown",
   "metadata": {},
   "source": [
    "# Exercises on WordNet\n",
    "\n",
    "## Chapter 2 n.23\n",
    "\n",
    "★ Zipf's Law: Let f(w) be the frequency of a word w in free text. Suppose that all the words of a text are ranked according to their frequency, with the most frequent word first. Zipf's law states that the frequency of a word type is inversely proportional to its rank (i.e. f × r = k, for some constant k). For example, the 50th most common word type should occur three times as frequently as the 150th most common word type.\n",
    "Write a function to process a large text and plot word frequency against word rank using pylab.plot. Do you confirm Zipf's law? (Hint: it helps to use a logarithmic scale). What is going on at the extreme ends of the plotted line?\n",
    "Generate random text, e.g., using random.choice(\"abcdefg \"), taking care to include the space character. You will need to import random first. Use the string concatenation operator to accumulate characters into a (very) long string. Then tokenize this string, and generate the Zipf plot as before, and compare the two plots. What do you make of Zipf's Law in the light of this?"
   ]
  },
  {
   "cell_type": "code",
   "execution_count": 179,
   "metadata": {},
   "outputs": [],
   "source": [
    "def zipf_plot(text):\n",
    "    # https://stackoverflow.com/questions/20510768/count-frequency-of-words-in-a-list-and-sort-by-frequency     \n",
    "    counter_of_words = Counter(w.lower() for w in text if w.isalpha())\n",
    "    counter_of_counts = Counter(counter_of_words.values())\n",
    "    word_counts = np.array(list(counter_of_counts.keys()))\n",
    "    freq_of_word_counts = np.array(list(counter_of_counts.values()))\n",
    "    plt.scatter(np.log(word_counts), np.log(freq_of_word_counts))\n",
    "#     plt.loglog(word_counts, freq_of_word_counts)\n",
    "    plt.xlabel('Log of word frequency')\n",
    "    plt.ylabel('Log of number of such words')\n",
    "    plt.title('Power law for word frequencies')\n",
    "    plt.show();"
   ]
  },
  {
   "cell_type": "code",
   "execution_count": 180,
   "metadata": {},
   "outputs": [
    {
     "data": {
      "image/png": "[encoded data removed]",
      "text/plain": [
       "<Figure size 432x288 with 1 Axes>"
      ]
     },
     "metadata": {},
     "output_type": "display_data"
    }
   ],
   "source": [
    "zipf_plot(brown.words())"
   ]
  },
  {
   "cell_type": "code",
   "execution_count": 183,
   "metadata": {},
   "outputs": [
    {
     "data": {
      "image/png": "[encoded data removed]",
      "text/plain": [
       "<Figure size 432x288 with 1 Axes>"
      ]
     },
     "metadata": {},
     "output_type": "display_data"
    }
   ],
   "source": [
    "target_length = 1000000\n",
    "random_string = \"\"\n",
    "\n",
    "while len(random_string) < target_length:\n",
    "    random_string += random.choice('abcdefg ')\n",
    "\n",
    "zipf_plot(random_string.split())"
   ]
  },
  {
   "cell_type": "code",
   "execution_count": 185,
   "metadata": {},
   "outputs": [],
   "source": [
    "# The conclusion is that the Zipf's Law Like Law is not a relevant when applied to concatenating random characters\n",
    "# I did this exercise using this article as guideline https://www.ncbi.nlm.nih.gov/pmc/articles/PMC2834740/"
   ]
  }
 ],
 "metadata": {
  "kernelspec": {
   "display_name": "Python 3",
   "language": "python",
   "name": "python3"
  },
  "language_info": {
   "codemirror_mode": {
    "name": "ipython",
    "version": 3
   },
   "file_extension": ".py",
   "mimetype": "text/x-python",
   "name": "python",
   "nbconvert_exporter": "python",
   "pygments_lexer": "ipython3",
   "version": "3.6.5"
  }
 },
 "nbformat": 4,
 "nbformat_minor": 2
}
