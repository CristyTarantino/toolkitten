{
 "cells": [
  {
   "cell_type": "markdown",
   "metadata": {},
   "source": [
    "# 1 Million Women To Tech:  Summer of Code\n",
    "\n",
    "## Week 3 - Intro to NLP \n",
    "\n",
    "### Day 4 Homeworks - Cristina Tarantino"
   ]
  },
  {
   "cell_type": "code",
   "execution_count": 99,
   "metadata": {},
   "outputs": [
    {
     "name": "stdout",
     "output_type": "stream",
     "text": [
      "[nltk_data] Downloading package punkt to ./nltk_data...\n",
      "[nltk_data]   Package punkt is already up-to-date!\n"
     ]
    }
   ],
   "source": [
    "import nltk\n",
    "nltk.download('punkt', download_dir='./nltk_data')\n",
    "nltk.data.path.append('./nltk_data')\n",
    "from bs4 import BeautifulSoup\n",
    "from bs4.element import Comment\n",
    "import urllib.request"
   ]
  },
  {
   "cell_type": "markdown",
   "metadata": {},
   "source": [
    "# Exercises on Regular Expressions\n",
    "\n",
    "## Chapter 3 n.6\n",
    "\n",
    "☼ Describe the class of strings matched by the following regular expressions.\n",
    "    1. [a-zA-Z]+\n",
    "    2. [A-Z][a-z]*\n",
    "    3. p[aeiou]{,2}t\n",
    "    4. \\d+(\\.\\d+)?\n",
    "    5. ([^aeiou][aeiou][^aeiou])*\n",
    "    6. \\w+|[^\\w\\s]+\n",
    "\n",
    "Test your answers using nltk.re_show()."
   ]
  },
  {
   "cell_type": "code",
   "execution_count": 12,
   "metadata": {},
   "outputs": [
    {
     "name": "stdout",
     "output_type": "stream",
     "text": [
      "{Cioa} {io} {sono} {Cristina}\n"
     ]
    }
   ],
   "source": [
    "# 1 - one or more letters\n",
    "nltk.re_show(r'[a-zA-Z]+', 'Ciao io sono Cristina')"
   ]
  },
  {
   "cell_type": "code",
   "execution_count": 15,
   "metadata": {},
   "outputs": [
    {
     "name": "stdout",
     "output_type": "stream",
     "text": [
      "{Ciao} io sono {Cristina}\n"
     ]
    }
   ],
   "source": [
    "# 2 - one capital letter and zero or more lowercase letters\n",
    "nltk.re_show(r'[A-Z][a-z]*', 'Ciao io sono Cristina')"
   ]
  },
  {
   "cell_type": "code",
   "execution_count": 30,
   "metadata": {},
   "outputs": [
    {
     "name": "stdout",
     "output_type": "stream",
     "text": [
      "Mi piacciono i {pet}tirossi\n"
     ]
    }
   ],
   "source": [
    "# 3 - a word starting with p, followed by 0 up to 2 vowels and ending with t\n",
    "nltk.re_show(r'p[aeiou]{,2}t', 'Mi piacciono i pettirossi')"
   ]
  },
  {
   "cell_type": "code",
   "execution_count": 36,
   "metadata": {},
   "outputs": [
    {
     "name": "stdout",
     "output_type": "stream",
     "text": [
      "Sono nata il {12}\n"
     ]
    }
   ],
   "source": [
    "# 4 - integer or decimal number\n",
    "nltk.re_show(r'\\d+(\\.\\d+)?', 'Sono nata il 12')"
   ]
  },
  {
   "cell_type": "code",
   "execution_count": 42,
   "metadata": {},
   "outputs": [
    {
     "name": "stdout",
     "output_type": "stream",
     "text": [
      "{}T{his} {}s{}h{}o{}u{}l{}d{} {mat}c{}h{} {lol} {pop} {tet} {pip} {cot an}d{}\n"
     ]
    }
   ],
   "source": [
    "# 5. starts with a non_vowel - vowel - non_vowel and empty strings\n",
    "nltk.re_show(r'([^aeiou][aeiou][^aeiou])*', 'This should match lol pop tet pip cot and    ')"
   ]
  },
  {
   "cell_type": "code",
   "execution_count": 54,
   "metadata": {},
   "outputs": [
    {
     "name": "stdout",
     "output_type": "stream",
     "text": [
      "{This} {should} {match} {1234} {and} {!!!}\n",
      "\n"
     ]
    }
   ],
   "source": [
    "# 6 - one or more alphanumeric characters or(|) one or more charcters that are neither alpahnumeric nor whitespace\n",
    "nltk.re_show(r'\\w+|[^\\w\\s]+', 'This should match 1234 and !!!')\n",
    "nltk.re_show(r'\\w+|[^\\w\\s]+', ' ')"
   ]
  },
  {
   "cell_type": "markdown",
   "metadata": {},
   "source": [
    "# Exercises on Regular Expressions\n",
    "## Chapter 3 n.6\n",
    "\n",
    "☼ Write regular expressions to match the following classes of strings:\n",
    "\n",
    "    1. A single determiner (assume that a, an, and the are the only determiners).\n",
    "    2. An arithmetic expression using integers, addition, and multiplication, such as 2*3+8."
   ]
  },
  {
   "cell_type": "code",
   "execution_count": 61,
   "metadata": {},
   "outputs": [
    {
     "name": "stdout",
     "output_type": "stream",
     "text": [
      "The world can be a better place\n",
      "{the}\n",
      "{a}\n",
      "An\n",
      "{a}\n"
     ]
    }
   ],
   "source": [
    "a = r'^(the|a|an)$'\n",
    "nltk.re_show(a, 'The world can be a better place')\n",
    "nltk.re_show(a, 'the')\n",
    "nltk.re_show(a, 'a')\n",
    "nltk.re_show(a, 'An')\n",
    "nltk.re_show(a, 'a')"
   ]
  },
  {
   "cell_type": "code",
   "execution_count": 68,
   "metadata": {},
   "outputs": [
    {
     "name": "stdout",
     "output_type": "stream",
     "text": [
      "something+2\n",
      "{2*3+8}\n",
      "{12*8+1}\n",
      "{2*9}-{8+5}/6\n"
     ]
    }
   ],
   "source": [
    "b = r'\\d+([\\+\\*]\\d+)+'\n",
    "nltk.re_show(b, 'something+2')\n",
    "nltk.re_show(b, '2*3+8')\n",
    "nltk.re_show(b, '12*8+1')\n",
    "nltk.re_show(b, '2*9-8+5/6')"
   ]
  },
  {
   "cell_type": "markdown",
   "metadata": {},
   "source": [
    "# Exercises on Accessing Text from the Web\n",
    "## Chapter 3 n.6\n",
    "\n",
    "Write a utility function that takes a URL as its argument, and returns the contents of the URL, with all HTML markup removed. Use from urllib import request and then  request.urlopen('http://nltk.org/').read().decode('utf8') to access the contents of the URL."
   ]
  },
  {
   "cell_type": "code",
   "execution_count": 103,
   "metadata": {},
   "outputs": [
    {
     "name": "stdout",
     "output_type": "stream",
     "text": [
      "         Homepage Accessibility links Skip to content Accessibility Help BBC iD Notifications Home News Sport Weather iPlayer TV Radio CBBC CBeebies Food Bitesize Music Earth Arts Make It Digital Taster Local Tomorrow's World Menu Search Search the BBC Search the BBC   BBC News News Navigation Sections Home Home selected UK World Business Politics Tech Science Health Family & Education Entertainment & Arts Stories Video & Audio In Pictures Newsbeat Reality Check Special Reports Explainers The Reporters Have Your Say Disability More More sections England N. Ireland Scotland Alba Wales Cymru Local News More More sections Home Home selected UK UK Home England N. Ireland Scotland Alba Wales Cymru Local News World World Home Africa Asia Australia Europe Latin America Middle East US & Canada Business Business Home Your Money Market Data Companies Economy Politics Politics Home Parliaments Brexit Tech Science Health Family & Education Family & Education Home School Report Global Education Entertainment & Arts Stories Video & Audio In Pictures Newsbeat Reality Check Special Reports Explainers The Reporters Have Your Say Disability  England N. Ireland Scotland Alba Wales Cymru Local News   BBC News Home  Breaking Breaking news Close breaking news  Latest Stories Most Read Skip to most read Latest Stories Most Read    Top Stories Struck-off doctor wins appeal to work Dr Hadiza Bawa-Garba was convicted of manslaughter by gross negligence following the death of a young boy. 2h 2 hours ago Leicester Related content Struck off for 'honest mistakes' Video Appeal win doctor says sorry for death Doctors to be protected Corbyn pressed over 'terror memorial' claim The Labour leader responds to criticism of his presence at a 2014 wreath-laying ceremony in Tunisia. 1h 43 minutes ago UK Politics Dozens hurt as coach overturns on M25 More than 40 people are taken to hospital - three with serious injuries - following the crash. 24m 24 minutes ago Kent Singer Aretha Franklin 'seriously ill' A source close to the singer confirms reports that the 76-year old soul star is gravely unwell. 4h 4 hours ago Entertainment & Arts The fastest-sinking city in the world Steps and Red Dwarf stars join Strictly The pair join broadcaster Katie Piper as part of the confirmed line-up for the forthcoming series. 1h 33 minutes ago Entertainment & Arts Comments Builder accused of £4m digger destruction Daniel Neagu appears in court accused of ripping apart five retirement homes with a digger. 6h 6 hours ago Beds, Herts & Bucks Builder accused of £4m digger destruction Daniel Neagu appears in court accused of ripping apart five retirement homes with a digger. 6h 6 hours ago Beds, Herts & Bucks Trio guilty of killing London model Harry Uzoka, 25, was stabbed by a rival model after a row over a girlfriend. 3h 3 hours ago London Streamer Ninja won't play with female gamers The gamer says he doesn't 'play with female gamers' out of respect for his wife. 4h 4 hours ago Newsbeat Monaco noble claims millions from France Louis de Causans wants €351m, saying France tricked his relatives out of the principality's throne. 18m 18 minutes ago Europe Video Video Mo Salah 'driving footage' given to police Liverpool FC said it told police about the footage \"and the circumstances surrounding its capture\". 1h an hour ago Liverpool 'Black-cab rapist' interviewed by police John Worboys has been questioned about a number of new allegations of sexual assault. 1h an hour ago London Video Video Are British Asians socially conservative? More than 2,000 British Asians responded to the poll as part of the BBC's Big British Asian Summer. 1h an hour ago England     Must See Take a 360 virtual tour around an oil rig Video Watch Live Video BBC News Channel The latest breaking and developing stories Audio Listen Live Audio BBC Radio 5 Live Original news and exclusive interviews Row over 'fairy doors' removed from wood Edinburgh barriers block castle view 'I'll be back' to the gym after Arnie's help 'Drunk' men scale cathedral on night out Waiting list in NZ for avocado trees  Most watched 1 Video Police aware of Mo Salah driving video 2 Video Shell of old car emerges from reservoir 3 Video 'Dog poo cost me my leg' 4 Video 'You need to think 10 years ahead' 5 Video BBC crew mistaken for ritual killers  Full Story A history of Manchester's Moss Side The Handmaid's Tale: Beyond the book The travel boss who refuses to do online sales Why are more troops going to Afghanistan? Video Video BBC crew mistaken for ritual killers Reality Check: How many transgender prisoners are there? Caspian Sea deal may end long-held claims  Local news Get the news that’s local to you  Long Reads 'A battle for the soul of America' How smallpox claimed its final victim The troubled 29-year-old helped to die by Dutch doctors The Barcelona jihadists and the hunt for a second gang 'I was kidnapped in London and trafficked for sex'  Most read 1 Dozens hurt as coach overturns on M25 2 Steps and Red Dwarf stars join Strictly 3 Corbyn pressed over 'terror memorial' claim 4 The fastest-sinking city in the world 5 Struck-off doctor wins appeal to work 6 Singer Aretha Franklin 'seriously ill' 7 Tax office bags conman's £70k poker win 8 Monaco noble claims millions from France 9 Streamer Ninja won't play with female gamers 10 Builder accused of £4m digger destruction   Around the UK Set a nation to see relevant news England N. Ireland Scotland Wales    Newsbeat See All Lindsay Lohan 'sorry' for Me Too comments A Bond hint from 'Elba, Idris Elba' 6ix9ine faces up to 3 years in prison 'Stopped under a police power I'd never heard of' UK modern slavery 'so blatant'  Sport See All Willian would have left had Conte stayed 4h 4 hours ago Football 'Hard to ignore' - why Woods deserves Ryder Cup spot 25m 25 minutes ago Golf Comments Murray out of Cincinnati Masters 2m 3 minutes ago Tennis 'Anderson could play for four more years' 2h 2 hours ago Cricket Which team has lost most on opening day? 8h 8 hours ago Football Comments Stokes again left out of England squad 4h 4 hours ago Cricket Tottenham delay new stadium opening 2m 2 minutes ago Football  Find us here News daily newsletter Get news from the BBC in your inbox each weekday morning Mobile app Find out more about our BBC News App Get in touch Email us at haveyoursay@bbc.co.uk Send an SMS or MMS to 61124 Follow Have Your Say on Twitter Why you can trust BBC News  News Navigation Sections Sections Home Home selected UK UK Home England N. Ireland Scotland Alba Wales Cymru Local News World World Home Africa Asia Australia Europe Latin America Middle East US & Canada Business Business Home Your Money Market Data Companies Economy Politics Politics Home Parliaments Brexit Tech Science Health Family & Education Family & Education Home School Report Global Education Entertainment & Arts Stories Video & Audio In Pictures Newsbeat Reality Check Special Reports Explainers The Reporters Have Your Say Disability              Explore the BBC Home News Sport Weather iPlayer TV Radio CBBC CBeebies Food Bitesize Music Earth Arts Make It Digital Taster Local Tomorrow's World Terms of Use About the BBC Privacy Policy Cookies Accessibility Help Parental Guidance Contact the BBC Get Personalised Newsletters Copyright © 2018 BBC. The BBC is not responsible for the content of external sites. Read about our approach to external linking.     \n"
     ]
    }
   ],
   "source": [
    "def tag_visible(element):\n",
    "    ''' filter method: remove html tags exept for body, comments and spaces'''\n",
    "    if element.parent.name in ['style', 'script', 'head', 'title', 'meta', '[document]']:\n",
    "        return False\n",
    "    if isinstance(element, Comment):\n",
    "        return False\n",
    "    elif re.match(r\"[\\s\\r\\n]+\",str(element)): \n",
    "        return False\n",
    "    return True\n",
    "\n",
    "def text_from_html(body):\n",
    "    ''' extract text from html '''\n",
    "    soup = BeautifulSoup(body, 'html.parser')\n",
    "    # https://www.crummy.com/software/BeautifulSoup/bs3/documentation.html#The%20basic%20find%20method:%20findAll(name,%20attrs,%20recursive,%20text,%20limit,%20**kwargs)     \n",
    "    texts = soup.findAll(text=True)\n",
    "    # filter the text removing tags     \n",
    "    visible_texts = filter(tag_visible, texts)\n",
    "    # strip all the tokens from spaces and then join all to then return the body    \n",
    "    return u\" \".join(t.strip() for t in visible_texts)\n",
    "\n",
    "def getContentFromURL(url):\n",
    "    ''' open the url and get the whole html '''      \n",
    "    html = urllib.request.urlopen(url).read()\n",
    "    return text_from_html(html)\n",
    "\n",
    "getContentFromURL('https://www.bbc.co.uk/news/')"
   ]
  }
 ],
 "metadata": {
  "kernelspec": {
   "display_name": "Python 3",
   "language": "python",
   "name": "python3"
  },
  "language_info": {
   "codemirror_mode": {
    "name": "ipython",
    "version": 3
   },
   "file_extension": ".py",
   "mimetype": "text/x-python",
   "name": "python",
   "nbconvert_exporter": "python",
   "pygments_lexer": "ipython3",
   "version": "3.6.5"
  }
 },
 "nbformat": 4,
 "nbformat_minor": 2
}
