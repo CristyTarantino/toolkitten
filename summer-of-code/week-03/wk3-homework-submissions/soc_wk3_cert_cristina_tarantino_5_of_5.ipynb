{
 "cells": [
  {
   "cell_type": "markdown",
   "metadata": {},
   "source": [
    "# 1 Million Women To Tech:  Summer of Code\n",
    "\n",
    "## Week 3 - Intro to NLP \n",
    "\n",
    "### Day 4 Homeworks - Cristina Tarantino"
   ]
  },
  {
   "cell_type": "code",
   "execution_count": 160,
   "metadata": {},
   "outputs": [
    {
     "name": "stdout",
     "output_type": "stream",
     "text": [
      "[nltk_data] Downloading package punkt to ./nltk_data...\n",
      "[nltk_data]   Package punkt is already up-to-date!\n"
     ]
    }
   ],
   "source": [
    "import os\n",
    "import nltk\n",
    "nltk.download('punkt', download_dir='./nltk_data')\n",
    "nltk.data.path.append('./nltk_data')\n",
    "from bs4 import BeautifulSoup\n",
    "from bs4.element import Comment\n",
    "import urllib.request\n",
    "from nltk.tokenize import regexp_tokenize"
   ]
  },
  {
   "cell_type": "markdown",
   "metadata": {},
   "source": [
    "# Exercises on Regular Expressions\n",
    "\n",
    "## Chapter 3 n.6\n",
    "\n",
    "☼ Describe the class of strings matched by the following regular expressions.\n",
    "    1. [a-zA-Z]+\n",
    "    2. [A-Z][a-z]*\n",
    "    3. p[aeiou]{,2}t\n",
    "    4. \\d+(\\.\\d+)?\n",
    "    5. ([^aeiou][aeiou][^aeiou])*\n",
    "    6. \\w+|[^\\w\\s]+\n",
    "\n",
    "Test your answers using nltk.re_show()."
   ]
  },
  {
   "cell_type": "code",
   "execution_count": 12,
   "metadata": {},
   "outputs": [
    {
     "name": "stdout",
     "output_type": "stream",
     "text": [
      "{Cioa} {io} {sono} {Cristina}\n"
     ]
    }
   ],
   "source": [
    "# 1 - one or more letters\n",
    "nltk.re_show(r'[a-zA-Z]+', 'Ciao io sono Cristina')"
   ]
  },
  {
   "cell_type": "code",
   "execution_count": 15,
   "metadata": {},
   "outputs": [
    {
     "name": "stdout",
     "output_type": "stream",
     "text": [
      "{Ciao} io sono {Cristina}\n"
     ]
    }
   ],
   "source": [
    "# 2 - one capital letter and zero or more lowercase letters\n",
    "nltk.re_show(r'[A-Z][a-z]*', 'Ciao io sono Cristina')"
   ]
  },
  {
   "cell_type": "code",
   "execution_count": 30,
   "metadata": {},
   "outputs": [
    {
     "name": "stdout",
     "output_type": "stream",
     "text": [
      "Mi piacciono i {pet}tirossi\n"
     ]
    }
   ],
   "source": [
    "# 3 - a word starting with p, followed by 0 up to 2 vowels and ending with t\n",
    "nltk.re_show(r'p[aeiou]{,2}t', 'Mi piacciono i pettirossi')"
   ]
  },
  {
   "cell_type": "code",
   "execution_count": 36,
   "metadata": {},
   "outputs": [
    {
     "name": "stdout",
     "output_type": "stream",
     "text": [
      "Sono nata il {12}\n"
     ]
    }
   ],
   "source": [
    "# 4 - integer or decimal number\n",
    "nltk.re_show(r'\\d+(\\.\\d+)?', 'Sono nata il 12')"
   ]
  },
  {
   "cell_type": "code",
   "execution_count": 42,
   "metadata": {},
   "outputs": [
    {
     "name": "stdout",
     "output_type": "stream",
     "text": [
      "{}T{his} {}s{}h{}o{}u{}l{}d{} {mat}c{}h{} {lol} {pop} {tet} {pip} {cot an}d{}\n"
     ]
    }
   ],
   "source": [
    "# 5. starts with a non_vowel - vowel - non_vowel and empty strings\n",
    "nltk.re_show(r'([^aeiou][aeiou][^aeiou])*', 'This should match lol pop tet pip cot and    ')"
   ]
  },
  {
   "cell_type": "code",
   "execution_count": 54,
   "metadata": {},
   "outputs": [
    {
     "name": "stdout",
     "output_type": "stream",
     "text": [
      "{This} {should} {match} {1234} {and} {!!!}\n",
      "\n"
     ]
    }
   ],
   "source": [
    "# 6 - one or more alphanumeric characters or(|) one or more charcters that are neither alpahnumeric nor whitespace\n",
    "nltk.re_show(r'\\w+|[^\\w\\s]+', 'This should match 1234 and !!!')\n",
    "nltk.re_show(r'\\w+|[^\\w\\s]+', ' ')"
   ]
  },
  {
   "cell_type": "markdown",
   "metadata": {},
   "source": [
    "# Exercises on Regular Expressions\n",
    "## Chapter 3 n.7\n",
    "\n",
    "☼ Write regular expressions to match the following classes of strings:\n",
    "\n",
    "    1. A single determiner (assume that a, an, and the are the only determiners).\n",
    "    2. An arithmetic expression using integers, addition, and multiplication, such as 2*3+8."
   ]
  },
  {
   "cell_type": "code",
   "execution_count": 61,
   "metadata": {},
   "outputs": [
    {
     "name": "stdout",
     "output_type": "stream",
     "text": [
      "The world can be a better place\n",
      "{the}\n",
      "{a}\n",
      "An\n",
      "{a}\n"
     ]
    }
   ],
   "source": [
    "a = r'^(the|a|an)$'\n",
    "nltk.re_show(a, 'The world can be a better place')\n",
    "nltk.re_show(a, 'the')\n",
    "nltk.re_show(a, 'a')\n",
    "nltk.re_show(a, 'An')\n",
    "nltk.re_show(a, 'a')"
   ]
  },
  {
   "cell_type": "code",
   "execution_count": 68,
   "metadata": {},
   "outputs": [
    {
     "name": "stdout",
     "output_type": "stream",
     "text": [
      "something+2\n",
      "{2*3+8}\n",
      "{12*8+1}\n",
      "{2*9}-{8+5}/6\n"
     ]
    }
   ],
   "source": [
    "b = r'\\d+([\\+\\*]\\d+)+'\n",
    "nltk.re_show(b, 'something+2')\n",
    "nltk.re_show(b, '2*3+8')\n",
    "nltk.re_show(b, '12*8+1')\n",
    "nltk.re_show(b, '2*9-8+5/6')"
   ]
  },
  {
   "cell_type": "markdown",
   "metadata": {},
   "source": [
    "# Exercises on Accessing Text from the Web\n",
    "## Chapter 3 n.8\n",
    "\n",
    "☼ Write a utility function that takes a URL as its argument, and returns the contents of the URL, with all HTML markup removed. Use from urllib import request and then  request.urlopen('http://nltk.org/').read().decode('utf8') to access the contents of the URL."
   ]
  },
  {
   "cell_type": "code",
   "execution_count": 116,
   "metadata": {},
   "outputs": [
    {
     "data": {
      "text/plain": [
       "'Homepage Accessibility links Skip to content Accessibility Help BBC iD Notifications Home News Sport Weather iPlayer TV Radio CBBC CBeebies Food Bitesize Music Earth Arts Make It Digital Taster Local Tomorrow\\'s World Menu Search Search the BBC Search the BBC BBC News News Navigation Sections Home Home selected UK World Business Politics Tech Science Health Family & Education Entertainment & Arts Stories Video & Audio In Pictures Newsbeat Reality Check Special Reports Explainers The Reporters Have Your Say Disability More England N. Ireland Scotland Alba Wales Cymru Local News More Home Home selected UK UK Home England N. Ireland Scotland Alba Wales Cymru Local News World World Home Africa Asia Australia Europe Latin America Middle East US & Canada Business Business Home Your Money Market Data Companies Economy Politics Politics Home Parliaments Brexit Tech Science Health Family & Education Family & Education Home School Report Global Education Entertainment & Arts Stories Video & Audio In Pictures Newsbeat Reality Check Special Reports Explainers The Reporters Have Your Say Disability England N. Ireland Scotland Alba Wales Cymru Local News BBC News Home Breaking Breaking news Close breaking news Latest Stories Most Read Skip to most read Latest Stories Most Read Top Stories Struck-off doctor wins appeal to work Dr Hadiza Bawa-Garba was convicted of manslaughter by gross negligence following the death of a young boy. 2h 2 hours ago Leicester Related content Struck off for \\'honest mistakes\\' Video Appeal win doctor says sorry for death Doctors to be protected Israeli PM attacks Corbyn over 2014 event Labour\\'s leader denies laying a wreath on the grave of a perpetrator of the 1972 Munich terror attack. 1m 2 minutes ago UK Politics Dozens hurt as coach overturns on M25 More than 40 people are taken to hospital - three with serious injuries - following the crash. 1h 44 minutes ago Kent Singer Aretha Franklin \\'seriously ill\\' A source close to the singer confirms reports that the 76-year old soul star is gravely unwell. 5h 5 hours ago Entertainment & Arts The fastest-sinking city in the world Steps and Red Dwarf stars join Strictly The pair join broadcaster Katie Piper as part of the confirmed line-up for the forthcoming series. 1h an hour ago Entertainment & Arts Builder accused of £4m digger destruction Daniel Neagu appears in court accused of ripping apart five retirement homes with a digger. 7h 7 hours ago Beds, Herts & Bucks Builder accused of £4m digger destruction Daniel Neagu appears in court accused of ripping apart five retirement homes with a digger. 7h 7 hours ago Beds, Herts & Bucks Trio guilty of killing London model Harry Uzoka, 25, was stabbed by a rival model after a row over a girlfriend. 3h 3 hours ago London Streamer Ninja won\\'t play with female gamers The gamer says he doesn\\'t \\'play with female gamers\\' out of respect for his wife. 4h 4 hours ago Newsbeat Monaco noble claims millions from France Louis de Causans wants €351m, saying France tricked his relatives out of the principality\\'s throne. 1h 38 minutes ago Europe Video Video Mo Salah \\'driving footage\\' given to police Liverpool FC said it told police about the footage \"and the circumstances surrounding its capture\". 1h an hour ago Liverpool \\'Black-cab rapist\\' interviewed by police John Worboys has been questioned about a number of new allegations of sexual assault. 2h 2 hours ago London Video Video Are British Asians socially conservative? More than 2,000 British Asians responded to the poll as part of the BBC\\'s Big British Asian Summer. 1h an hour ago England Must See Take a 360 virtual tour around an oil rig Video Watch Live Video BBC News Channel The latest breaking and developing stories Audio Listen Live Audio BBC Radio 5 Live Original news and exclusive interviews Row over \\'fairy doors\\' removed from wood Edinburgh barriers block castle view \\'I\\'ll be back\\' to the gym after Arnie\\'s help \\'Drunk\\' men scale cathedral on night out Waiting list in NZ for avocado trees Most watched 1 Video Police aware of Mo Salah driving video 2 Video \\'Dog poo cost me my leg\\' 3 Video Shell of old car emerges from reservoir 4 Video \\'You need to think 10 years ahead\\' 5 Video BBC crew mistaken for ritual killers Full Story A history of Manchester\\'s Moss Side The Handmaid\\'s Tale: Beyond the book The travel boss who refuses to do online sales Why are more troops going to Afghanistan? Video Video BBC crew mistaken for ritual killers Reality Check: How many transgender prisoners are there? Caspian Sea deal may end long-held claims Local news Get the news that’s local to you Long Reads \\'A battle for the soul of America\\' How smallpox claimed its final victim The troubled 29-year-old helped to die by Dutch doctors The Barcelona jihadists and the hunt for a second gang \\'I was kidnapped in London and trafficked for sex\\' Most read 1 Dozens hurt as coach overturns on M25 2 Steps and Red Dwarf stars join Strictly 3 Israeli PM attacks Corbyn over 2014 event 4 The fastest-sinking city in the world 5 Struck-off doctor wins appeal to work 6 Singer Aretha Franklin \\'seriously ill\\' 7 Monaco noble claims millions from France 8 Tax office bags conman\\'s £70k poker win 9 Streamer Ninja won\\'t play with female gamers 10 Builder accused of £4m digger destruction Around the UK Set a nation to see relevant news England N. Ireland Scotland Wales Newsbeat See All Lindsay Lohan \\'sorry\\' for Me Too comments A Bond hint from \\'Elba, Idris Elba\\' 6ix9ine faces up to 3 years in prison \\'Stopped under a police power I\\'d never heard of\\' UK modern slavery \\'so blatant\\' Sport See All Willian would have left had Conte stayed 5h 5 hours ago Football \\'Hard to ignore\\' - why Woods deserves Ryder Cup spot 1h 34 minutes ago Golf Tottenham delay new stadium opening 3m 3 minutes ago Football Murray out of Cincinnati Masters 4m 5 minutes ago Tennis \\'Anderson could play for four more years\\' 2h 2 hours ago Cricket Which team has lost most on opening day? 8h 8 hours ago Football Stokes again left out of England squad 4h 4 hours ago Cricket Find us here News daily newsletter Get news from the BBC in your inbox each weekday morning Mobile app Find out more about our BBC News App Get in touch Email us at haveyoursay@bbc.co.uk Send an SMS or MMS to 61124 Follow Have Your Say on Twitter Why you can trust BBC News News Navigation Sections Sections Home Home selected UK UK Home England N. Ireland Scotland Alba Wales Cymru Local News World World Home Africa Asia Australia Europe Latin America Middle East US & Canada Business Business Home Your Money Market Data Companies Economy Politics Politics Home Parliaments Brexit Tech Science Health Family & Education Family & Education Home School Report Global Education Entertainment & Arts Stories Video & Audio In Pictures Newsbeat Reality Check Special Reports Explainers The Reporters Have Your Say Disability Explore the BBC Home News Sport Weather iPlayer TV Radio CBBC CBeebies Food Bitesize Music Earth Arts Make It Digital Taster Local Tomorrow\\'s World Terms of Use About the BBC Privacy Policy Cookies Accessibility Help Parental Guidance Contact the BBC Get Personalised Newsletters Copyright © 2018 BBC. Read about our approach to external linking.'"
      ]
     },
     "execution_count": 116,
     "metadata": {},
     "output_type": "execute_result"
    }
   ],
   "source": [
    "def tag_visible(element):\n",
    "    ''' filter method: remove html tags exept for body, comments and spaces'''\n",
    "    if element.parent.name in ['style', 'script', 'head', 'title', 'meta', 'video', '[document]']:\n",
    "        return False\n",
    "    if isinstance(element, Comment):\n",
    "        return False\n",
    "    elif re.match(r\"[\\s\\r\\n]+\",str(element)): \n",
    "        return False\n",
    "    return True\n",
    "\n",
    "def text_from_html(body):\n",
    "    ''' extract text from html '''\n",
    "    soup = BeautifulSoup(body, 'html.parser')\n",
    "    # https://www.crummy.com/software/BeautifulSoup/bs3/documentation.html#The%20basic%20find%20method:%20findAll(name,%20attrs,%20recursive,%20text,%20limit,%20**kwargs)     \n",
    "    texts = soup.findAll(text=True)\n",
    "    # filter the text removing tags     \n",
    "    visible_texts = filter(tag_visible, texts)\n",
    "    # strip all the tokens from spaces and then join all to then return the body    \n",
    "    return u\" \".join(t.strip() for t in visible_texts)\n",
    "\n",
    "def getContentFromURL(url):\n",
    "    ''' open the url and get the whole html '''      \n",
    "    html = urllib.request.urlopen(url).read()\n",
    "    return text_from_html(html)\n",
    "\n",
    "getContentFromURL('https://www.bbc.co.uk/news/')"
   ]
  },
  {
   "cell_type": "markdown",
   "metadata": {},
   "source": [
    "# Exercises on Accessing Text from the Web\n",
    "## Chapter 3 n.9\n",
    "\n",
    "☼ Save some text into a file corpus.txt. Define a function load(f) that reads from the file named in its sole argument, and returns a string containing the text of the file.\n",
    "\n",
    "    - Use nltk.regexp_tokenize() to create a tokenizer that tokenizes the various kinds of punctuation in this text. Use one multi-line regular expression, with inline comments, using the verbose flag (?x).\n",
    "    - Use nltk.regexp_tokenize() to create a tokenizer that tokenizes the following kinds of expression: monetary amounts; dates; names of people and organizations."
   ]
  },
  {
   "cell_type": "code",
   "execution_count": 156,
   "metadata": {},
   "outputs": [],
   "source": [
    "if not os.path.exists('./corpus.txt'):\n",
    "    with open('./corpus.txt', 'w'): pass\n",
    "\n",
    "file = open('corpus.txt','w') \n",
    " \n",
    "file.write(getContentFromURL('https://developers.google.com/web/fundamentals/primers/promises'))\n",
    "file.close()\n",
    "\n",
    "def load(fine_name):\n",
    "    file = open(fine_name)\n",
    "    return file.read()"
   ]
  },
  {
   "cell_type": "code",
   "execution_count": 158,
   "metadata": {},
   "outputs": [
    {
     "name": "stdout",
     "output_type": "stream",
     "text": [
      "['?', '-', '-', '(', ')', '(', ')', ':', '(', ')', '-', '-', '-', '-', '-', '-', '-', ',', ',', '-', '-', '-', ',', '-', '?', ',', \"'\", '?', ':', ':', '-', '-', '-', '-', ',', '.', '[', ']', '[', ',', ',', ']', ':', ',', \"'\", '.', \"'\", '\"', '\"', '.', \"'\", ',', '.', ',', \"'\", ',', '.', '.', '?', \"'\", '.', \"'\", '?', '.', \"'\", '.', ',', '.', \"'\", '?', ',', ';', '.', ',', '.', ',', ',', '(', ').', '.', ',', \"'\", '.', ',', '.', ',', '.', \"'\", ',', \"'\", '.', \"'\", \"'\", '.', \"'\", '.', ':', '.', \"('.\", '-', \"');\", '.', \"('\", \"',\", '()', '{', '});', '.', \"('\", \"',\", '()', '{', \"'\", '});', \"'\", '.', ',', ',', '.', ',', ',', \"'\", ',', '\"', '\"', ':', '.', \"('.\", '-', \"');\", '()', '{', '}', '(', '.', ')', '{', '();', '}', '{', '.', \"('\", \"',\", ');', '}', '.', \"('\", \"',\", '()', '{', \"'\", '});', \"'\", \"'\", ';', \"'\", '.', ',', ',', '.', \"'\", ',', '.', \"'\", '.', ',', ':', '.', '(', '()', '{', '}).', '(', '()', '{', '});', '([', ',', ']).', '(', '()', '{', '}).', '(', '()', '{', '});', ',', '.', '\"', '\"', ',', ':', '.', '().', '(', '()', '{', '},', '()', '{', '});', '.', '([', '.', '(),', '.', '()]).', '(', '()', '{', '},', '()', '{', '});', ',', ':', '.', ',', '.', ',', ',', '.', ',', \"'\", ',', '.', ':', ',', ':', '.', ',', '.', \"'\", ',', '.', ',', \"'\", ',', ',', '.', ',', '.', ',', '.', '.', '.', \"'\", ':', '(', '(', ',', ')', '{', ',', ',', '(', ')', '{', '(\"', '\");', '}', '{', '(', '(\"', '\"));', '}', '});', ',', ',', '.', ',', ',', ',', '.', \"'\", ':', '.', '(', '(', ')', '{', '.', '(', ');', '\"', '\"', '},', '(', ')', '{', '.', '(', ');', ':', '\"', '\"', '});', '()', '\"', '\",', '\"', '\",', '.', \"'\", '-', '.', '(', ').', \"'\", ',', \"'\", '.', ',', '.', ',', ',', ',', ',', ',', '.', '.', ',', ',', ',', ',', '.', ',', '.', ',', '()', '),', ',', \"'\", ',', \"'\", '.', ',', ',', \"'\", '.', ',', ':', '.', '(', '.', \"('\", '.', \"'))\", ',', \"'\", '.', '()', '.', '()', '.', \"('\", '.', \"');\", '.', '(', '(', ',', ',', ')', '{', '...', '},', '(', ',', ',', ')', '{', '...', '})', ':', '.', '(', '(', ')', '{', '...', '},', '(', ')', '{', '...', '})', ',', '.', ',', \"'\", '.', ',', \"'\", '.', ':', ',', ',', '.', \"'\", ',', \"'\", ',', ',', '.', ',', \"'\", ',', ',', ':', ',', \"'\", '.', ',', \"'\", ':', ',', \"'\", '.', '(', ')', '{', '.', '(', '(', ',', ')', '{', '();', '.', \"('\", \"',\", ');', '.', '()', '{', '(', '.', ')', '{', '(', '.', ');', '}', '{', '(', '(', '.', '));', '}', '};', '.', '()', '{', '(', '(\"', '\"));', '};', '.', '();', '});', '}', \"'\", ':', \"('\", '.', \"').\", '(', '(', ')', '{', '.', '(\"', '\",', ');', '},', '(', ')', '{', '.', '(\"', '\",', ');', '})', ',', '.', ',', ',', '-', ',', '.', '()', '.', ':', '(', '(', ',', ')', '{', '(', ');', '});', '.', '(', '(', ')', '{', '.', '(', ');', ';', '}).', '(', '(', ')', '{', '.', '(', ');', '})', ',', \"'\", ':', \"('\", '.', \"').\", '(', '(', ')', '{', '.', '(\"', '\",', ');', '})', ',', \"'\", '.', ',', ':', \"('\", '.', \"').\", '(', '(', ')', '{', '.', '(', ');', '}).', '(', '(', ')', '{', '.', '(\"', '\",', ');', '})', '.', '()', \"('\", '.', \"').\", '(', '.', ').', '(', '(', ')', '{', '.', '(\"', '\",', ');', '})', ',', '.', ',', '()', '(', ')', '{', '(', ').', '(', '.', ');', '}', '()', '.', '()', '()', '()', \"('\", '.', \"').\", '(', '(', ')', '{', '(', '.', '[', ']);', '}).', '(', '(', ')', '{', '.', '(\"', '\",', ');', '})', '.', ',', ',', '.', '.', ':', ';', '(', ')', '{', \"('\", '.', \"');\", '.', '(', '(', ')', '{', '(', '.', '[', ']);', '})', '}', ':', '(', ').', '(', '(', ')', '{', '.', '(', ');', '(', ');', '}).', '(', '(', ')', '{', '.', '(', ');', '})', \"'\", '.', '.', ',', '()', \"('\", '.', \"').\", '(', '(', ')', '{', '.', '(\"', '\",', ');', '},', '(', ')', '{', '.', '(\"', '\",', ');', '})', '()', ':', \"('\", '.', \"').\", '(', '(', ')', '{', '.', '(\"', '\",', ');', '}).', '(', '(', ')', '{', '.', '(\"', '\",', ');', '})', \"'\", '()', ',', \"'\", '(', ',', ')', ',', \"'\", '.', ',', ':', \"('\", '.', \"').\", '(', '(', ')', '{', '.', '(\"', '\",', ');', '}).', '(', ',', '(', ')', '{', '.', '(\"', '\",', ');', '})', ',', '.', '()', '()', ',', \"'\", ').', '(', ',', ')', ',', '(', ').', '(', ')', ',', '().', '(', '()', '{', '();', '}).', '(', '()', '{', '();', '}).', '(', '(', ')', '{', '();', '}).', '(', '()', '{', '();', '},', '(', ')', '{', '();', '}).', '(', '(', ')', '{', '.', '(\"', \"'\", '\");', '}).', '(', '()', '{', '.', '(\"', '\");', '})', ',', '\"', '\"', '()', ',', '.', ',', ':', '(', '(', ',', ')', '{', '.', ',', ':', '(', '.', '(\"', \"'\", '\"));', '});', '.', '(', '(', ')', '{', ':', '.', '(\"', '\",', ');', '}).', '(', '(', ')', '{', ',', ':', '.', '(\"', '\",', ');', '})', \"'\", '-', ',', '.', '()', \"('\", \"').\", '(', '.', ').', '(', '()', '{', ',', \"'\", \"'\", ',', '.', '.', '(\"', '\",', ');', '}).', '(', '(', ')', '{', ',', ':', '.', '(\"', '\",', ');', '})', ',', ':', \"('\", '.', \"').\", '(', '(', ')', '{', '(', '.', '[', ']);', '}).', '(', '(', ')', '{', '(', '.', ');', '}).', '(', '()', '{', '(\"', '\");', '}).', '(', '()', '{', '.', \"('.\", \"').\", '.', \"'\", \"';\", '})', '.', '[', ']', '()', \"'\", ',', ',', ',', '.', '-', ':', '{', \"('\", '.', \"');\", '(', '.', '[', ']);', '(', '.', ');', '}', '(', ')', '{', '(\"', '\");', '}', '.', \"('.\", \"').\", '.', \"'\", \"'\", '()', '()', '(', ')', '{', '(', ').', '(', '.', ').', '(', '(', ')', '{', '.', '(\"', '\",', ',', ');', ';', '});', '}', \"'\", ',', '.', \"'\", '.', ':', \"'\", '.', \"'\", ',', '.', ':', '{', \"('\", '.', \"');\", '(', '.', ');', '.', '.', '(', '(', ')', '{', '(', ');', '(', '.', ');', '});', '(\"', '\");', '}', '(', ')', '{', '(\"', ',', ':', '\"', '.', ');', '}', '.', \"('.\", \"').\", '.', \"'\", \"'\", '(', ')', \"'\", '.', '()', \"('\", '.', \"').\", '(', '(', ')', '{', '(', '.', ');', ':', '.', ',', ';', '}).', '(', '()', '{', \"'\", '(\"', '\");', '}).', '(', '(', ')', '{', '(\"', ',', ':', '\"', '.', ');', '}).', '(', '()', '{', '.', \"('.\", \"').\", '.', \"'\", \"';\", '})', '?', \"'\", ':', '.', '.', '(', '(', ')', '{', '(', ').', '(', '(', ')', '{', '(', '.', ');', '});', '})', '()', ':', '.', '();', '.', '.', '(', '(', ')', '{', '.', '(', '()', '{', '(', ');', '}).', '(', '(', ')', '{', '(', '.', ');', '});', '})', \"'\", '.', '()', ',', '.', ':', '()', '.', \"('\", \"')\", ',', '.', ',', ',', '\"', '\".', \"'\", '.', '(', ')', ',', '(', ').', '.', ':', '.', '.', '(', '(', ',', ')', '{', '.', '(', '()', '{', '(', ');', '}).', '(', '(', ')', '{', '(', '.', ');', '});', '},', '.', '())', ',', \"'\", '\"', '\"', '.', '.', '\"', '\"', '.', '()', '.', \"'\", ':', \"('\", '.', \"').\", '(', '(', ')', '{', '(', '.', ');', '.', '.', '(', '(', ',', ')', '{', \"'\", '.', '(', '()', '{', '(', ');', '}).', '(', '(', ')', '{', '(', '.', ');', '});', '},', '.', '());', '}).', '(', '()', '{', \"'\", '(\"', '\");', '}).', '(', '(', ')', '{', '(\"', ',', ':', '\"', '.', ');', '}).', '(', '()', '{', '.', \"('.\", \"').\", '.', \"'\", \"';\", '})', '(', '),', '.', '.', ':', ',', \"'\", '.', ',', \"'\", '.', \"'\", ':', '.', '(', ').', '(', '(', ')', '{', '...', '})', '.', \"('\", '.', \"').\", '(', '(', ')', '{', '(', '.', ');', '.', '(', '.', '.', '(', ')', ');', '}).', '(', '(', ')', '{', '.', '(', '(', ')', '{', '(', '.', ');', '});', '(\"', '\");', '}).', '(', '(', ')', '{', '(\"', ',', ':', '\"', '.', ');', '}).', '(', '()', '{', '.', \"('.\", \"').\", '.', \"'\", \"';\", '})', ',', '-', '-', '(', '),', \"'\", '.', ',', '.', ',', '.', '.', '.', ',', \"'\", '.', ',', ',', '.', ',', ',', ':', \"('\", '.', \"').\", '(', '(', ')', '{', '(', '.', ');', '.', '.', '.', '.', '(', ')', '.', '(', '(', ',', ')', '{', ',', '.', '(', '()', '{', ',', '.', ';', '}).', '(', '(', ')', '{', '(', '.', ');', '});', '},', '.', '());', '}).', '(', '()', '{', '(\"', '\");', '}).', '(', '(', ')', '{', '(\"', ',', ':', '\"', '.', ');', '}).', '(', '()', '{', '.', \"('.\", \"').\", '.', \"'\", \"';\", '})', '(', '),', ',', '.', ',', ',', ',', '.', '.', '-', ':', ',', \"'\", '.', '.', ',', ',', '\"', '\",', ',', ':', '()', '{', ';', '(', ')', '{', ';', '}', '}', ',', '.', '.', ':', '();', '.', '().', ';', '.', '(', ').', ';', '.', '(', ').', ';', '.', '(', ').', ';', '.', '(', ').', ';', '?', ',', '(', ')', '.', \"'\", '-', '-', ',', \"'\", '(', ')', '{', '(', ',', ')', '{', ';', '{', '[', '](', ');', '}', '(', ')', '{', '.', '(', ');', '}', '(', '.', ')', '{', '.', ';', '}', '{', '.', '(', '.', ').', '(', ',', ');', '}', '}', '();', '.', '(', ',', '\"', '\");', '.', '(', ',', '\"', '\");', '();', '}', ',', '.', ',', '-', ',', ',', ':', '(', '()', '{', '{', \"'\", \"'\", ',', \"('\", '.', \"');\", '(', '.', ');', '.', '.', '.', '.', '(', ');', '(', ')', '{', ',', ';', '(', '.', ');', '}', '(\"', '\");', '}', '(', ')', '{', ',', '(\"', ',', ':', '\"', '.', ');', '}', '.', \"('.\", \"').\", '.', \"'\", \"';\", '})', '.', '(', '),', ':', ':', ',', ',', ',', '-', '.', ',', '.', ',', ',', '.', ',', \"'\", '.', \"'\", ',', ',', ',', ',', ',', '.', '.', '(', ');', '(', '.', ')', '.', '(', ');', '.', '(', ');', '.', '.', '.', '(', ');', '.', '(', '.', '.', '),', '.', '.', '(', ');', '.', ',', '-', '.', '(', ')', '.', '.', '.', '(', ');', ':', '.', \"'\", ';', \"'\", '.', '(', '(', ',', ')', '{});', '(', ')', '(', ')', '(', ')', '.', '(', '.', '.,', '),', '.', '()', '.', '.', '(', ',', ')', '()', '.', '.', ',', '.', '.', '(', ')', '.', '(', ',', ')', '?', ',', ',', ',', ',', ',', ',', '.', ',', ',', '.', ',', '.', '.', ',', '.', '.', '.', '-', '.', '.', '.']\n"
     ]
    }
   ],
   "source": [
    "text = load('./corpus.txt')\n",
    "nltk_prefix = '''(?x)'''                # verbose regexp will be set for re using re.VERBOSE\n",
    "pattern = r'''(?x)\n",
    "            [\\.,;\"'?\\(\\):\\-_`\\[\\]\\{\\}]+ # one or more punctuation symbols, brackets etc.\n",
    "            '''\n",
    "print(regexp_tokenize(text, nltk_prefix + pattern))"
   ]
  },
  {
   "cell_type": "code",
   "execution_count": 193,
   "metadata": {},
   "outputs": [
    {
     "name": "stdout",
     "output_type": "stream",
     "text": [
      "['This', 'Margarita', '£50', '2000-02-28', '30£', '2 April 2018']\n"
     ]
    }
   ],
   "source": [
    "# b\n",
    "nltk_prefix = '''(?x)'''                         # verbose regexp will be set for re using re.VERBOSE\n",
    "pattern = r'''\n",
    "    (?:\\d+\\.)?\\d+\\s?\\£                           # Monetary amount like 2.40$\n",
    "    | \\£\\s?(?:\\d+\\.)?\\d+                         # Monetary amount like $2.40\n",
    "    | \\d{4}\\-\\d{2}\\-\\d{2}                        # Date like 2016-22-01\n",
    "    | \\d{1,2}\\s[A-Z][a-z]{2,8}\\s\\d{4}            # Date like 2 March 1998\n",
    "    | (?<!\\.\\s)[A-Z][a-z]+(?:\\s[A-Z][a-z]+)?     # Names of people and organizations\n",
    "'''\n",
    "testString = 'This is Margarita and she would like to earn £50k a year as software engineer. She was born on 2000-02-28 and she now earns 30£k. Her son was born the 2 April 2018'\n",
    "print(nltk.regexp_tokenize(testString, nltk_prefix + pattern))"
   ]
  },
  {
   "cell_type": "code",
   "execution_count": 194,
   "metadata": {},
   "outputs": [
    {
     "name": "stdout",
     "output_type": "stream",
     "text": [
      "['All Products', 'Overview Architectural', 'Patterns App', 'Shell Model', 'Design', 'User Experience', 'Designing Great', 'User Experiences', 'Basics', 'User Experiences', 'What Makes', 'Good Mobile', 'Site', 'Introduction', 'Accessibility Overview', 'Focus Introduction', 'Focus', 'Order Matters', 'Using', 'Semantics Built', 'Introduction', 'Semantics The', 'Accessibility Tree', 'Text Alternatives', 'Images Navigating', 'Content Semantics', 'Introduction', 'Labels', 'Relationships Hiding', 'Updating Content', 'Accessible Styles', 'How To', 'Do', 'Accessibility Review', 'Accessibility', 'Teams Animations', 'Overview', 'Versus Java', 'Script The', 'Basics', 'Easing Custom', 'Easing Animating', 'Between Views', 'Choosing', 'Right Easing', 'Animating Modal', 'Views Asymmetric', 'Animation Timing', 'Animations', 'Performance Responsive', 'Web Design', 'Overview Patterns', 'Responsive Images', 'Multi', 'Device Content', 'Integration', 'Engagement App', 'Install Prompt', 'Add', 'Home Screen', 'Web', 'App Install', 'Prompt', 'Native', 'Additional Colors', 'Icons Device', 'Is Handling', 'User Location', 'Using Device', 'Orientation', 'Motion Making', 'Fullscreen Experiences', 'Click', 'Call Search', 'Optimization Sign', 'Credential Management', 'Overview Sign', 'Users Save', 'Credentials', 'Forms Social', 'Discovery User', 'Input Create', 'Amazing Forms', 'Add Touch', 'To Your', 'Site Web', 'Payments Intro', 'Payment Request', 'Deep Dive', 'Payment Request', 'Payment Request', 'Set', 'Google Pay', 'Web Push', 'Notifications Overview', 'How Push', 'Works Subscribing', 'User Permission', 'Sending Messages', 'Web Push', 'Libraries Web', 'Push Protocol', 'Handling Push', 'Events Displaying', 'Notification Notification', 'Behavior Common', 'Notification Patterns', 'Common Issues', 'Reporting Bugs', 'Video', 'Web Push', 'Notifications', 'Web', 'Ks', 'Android Web', 'App Manifest', 'Media', 'Video', 'Audio Playback', 'Using', 'Mobile Web', 'Video Playback', 'Playing Protected', 'Content', 'Encrypted Media', 'Extensions Playback', 'Control', 'Media Source', 'Extensions Overview', 'Seamless Playback', 'Fast Playback', 'Video Preload', 'Capture', 'Record Capturing', 'Audio Capturing', 'Images Capturing', 'Video Manipulating', 'Media Files', 'Application Primers', 'From Raw', 'Video', 'Web Ready', 'Real Time', 'Effects For', 'Images', 'Video Cheat', 'Sheet', 'Overview Status', 'Seeing', 'Web From', 'Perspective Getting', 'Started', 'Web', 'Adding Input', 'Web', 'Scene Performance', 'Overview Measure', 'Performance', 'Model Loading', 'Performance Overview', 'Get Started', 'Measuring Performance', 'Text Content', 'Graphical Content', 'Requests', 'Caching Wrap', 'Demo How', 'Think About', 'Speed Tools', 'Assessing Loading', 'Performance', 'Real Life', 'Navigation', 'Resource Timing', 'User', 'Performance Metrics', 'Understanding Low', 'Bandwidth', 'High Latency', 'Optimizing Content', 'Efficiency Overview', 'Eliminating Unnecessary', 'Downloads Optimizing', 'Encoding', 'Transfer Size', 'Text', 'Assets Image', 'Optimization Automating', 'Image Optimization', 'Replace Animated', 'Fs', 'Video Java', 'Script Start', 'Optimization Loading', 'Third', 'Party Java', 'Script Web', 'Font Optimization', 'Caching Delivering', 'Fast', 'Light Applications', 'Save', 'Data Optimizing', 'Java', 'Script Reduce', 'Java', 'Script Payloads', 'Tree Shaking', 'Reduce Java', 'Script Payloads', 'Code Splitting', 'Never Load', 'Same Resource', 'Twice Offline', 'Cookbook Web', 'Storage Overview', 'Offline Storage', 'Progressive Web', 'Apps Using', 'Cache', 'Indexed', 'Best Practices', 'Offline', 'Considerations Lazy', 'Loading Resources', 'Images', 'Video Order', 'Loading Thoughtfully', 'Critical Rendering', 'Path Overview', 'Constructing', 'Object Model', 'Render', 'Tree Construction', 'Layout', 'Paint Render', 'Blocking', 'Adding Interactivity', 'Java', 'Script Measuring', 'Critical Rendering', 'Path Analyzing', 'Critical Rendering', 'Path Performance', 'Optimizing', 'Critical Rendering', 'Path Page', 'Speed Rules', 'Recommendations Introduction', 'Pattern Resource', 'Prioritization Web', 'Performance Optimization', 'Introduction Decrease', 'Front', 'Size Make', 'Use', 'Long', 'Caching Monitor', 'Conclusion Rendering', 'Performance Overview', 'Optimizing Java', 'Script Execution', 'Reduce', 'Scope', 'Complexity', 'Style Calculations', 'Avoid Large', 'Complex Layouts', 'Layout Thrashing', 'Simplify Paint', 'Complexity', 'Reduce Paint', 'Areas Stick', 'Compositor', 'Only Properties', 'Manage Layer', 'Count Debounce', 'Your Input', 'Handlers Security', 'Overview Content', 'Security Policy', 'Encrypting Data', 'In Transit', 'Why', 'Important Security', 'Terminology Enabling', 'Your Servers', 'Preventing Mixed', 'Content What', 'Is Mixed', 'Content', 'Preventing Mixed', 'Content Help', 'Overview How', 'Top', 'Build', 'Quarantine', 'Use Search', 'Console Assess', 'Overview Fixing', 'Japanese', 'Fixing', 'Fixing', 'Assess', 'Identify', 'Clean', 'Request', 'Glossary', 'Qs', 'Base Technologies', 'Web Components', 'Overview Custom', 'Elements', 'Reusable Web', 'Components Shadow', 'Self', 'Contained Web', 'Components Best', 'Practices Examples', 'Overview', 'Java', 'Script Async', 'Functions Promises', 'Service Workers', 'Overview Life', 'Cycle Registration', 'High Performance', 'Loading Glossary', 'By Jake', 'Archibald Developers', 'Drumroll', 'Promises', 'Java', 'Script', 'Fireworks', 'At', 'People', 'About', 'You', 'Promise', 'What', 'Java', 'Script', 'You', 'Java', 'Script', 'Java', 'Script', 'Java', 'Script', 'Selector', 'Event', 'Listener', 'Event', 'Listener', 'This', 'Java', 'Script', 'Selector', 'Event', 'Listener', 'Event', 'Listener', 'This', 'Events', 'This', 'If', 'Loaded', 'Or', 'When', 'Loaded', 'If', 'Failed', 'Call', 'This', 'All', 'These', 'Have', 'Loaded', 'This', 'If', 'Some', 'Failed', 'Call', 'This', 'This', 'Promise', 'At', 'Domenic Denicola', 'States', 'Fates', 'The', 'Terry Venables', 'Promises', 'Java', 'Script', 'Promises', 'Win', 'The', 'Java', 'Script', 'Promises', 'Query', 'Deferreds', 'Deferreds', 'Promise', 'Query', 'Promise', 'Deferred', 'Is', 'Script', 'Promise', 'Stuff', 'Error', 'It', 'The', 'Here', 'Stuff', 'Error', 'It', 'Java', 'Script', 'Futures', 'Promises', 'Java', 'Script', 'Java', 'Script', 'Node', 'Is', 'Java', 'Script', 'Is', 'Quota Management', 'Font Load', 'Events', 'Service', 'Worker', 'Web', 'Streams', 'There', 'Chrome', 'Opera', 'Firefox', 'Safari', 'Microsoft Edge', 'Node', 'Compatibility', 'The Java', 'Script', 'Java', 'Script', 'Query', 'Deferreds', 'Promise', 'Promise', 'Here', 'Query', 'Promise', 'Deferred', 'Deferred', 'Text', 'Obj', 'Obj', 'Status', 'Whereas', 'Promise', 'Obj', 'Thankfully', 'Query', 'Error', 'Right', 'Start', 'Fetch', 'Add', 'Fetch', 'Add', 'Stop', 'Java', 'Script', 'Is', 'Multiple', 'Promisifying', 'Http', 'Request Old', 'Is', 'Http', 'Request', 'Return', 'Promise', 'Do', 'Http', 'Request', 'This', 'Resolve', 'Otherwise', 'Error', 'Text', 'Handle', 'Error', 'Network Error', 'Make', 'Now', 'Success', 'Failed', 'Click', 'Dev', 'Tools', 'Http', 'Request', 'Http', 'Request', 'You', 'Promise', 'As', 'Success', 'The', 'Type', 'Yey', 'Since', 'Yey', 'See', 'Dev', 'Tools', 'Queuing', 'You', 'Urls', 'Got', 'Here', 'Ls', 'Promise', 'Chapter', 'Promise', 'Promise', 'Promise', 'Urls', 'Chapter', 'Chapter', 'We', 'Chapter', 'Chapter', 'Error', 'As', 'Success', 'Failed', 'You', 'Success', 'Failed', 'There', 'Success', 'Failed', 'The', 'Thing', 'Thing', 'Thing', 'Recovery', 'Thing', 'Recovery', 'Don', 'All', 'The', 'Java', 'Script', 'Follow', 'Script', 'Rejections', 'Promise', 'Promise', 'This', 'Promise', 'This', 'It', 'Instead', 'It', 'This', 'This', 'It', 'Instead', 'It', 'Error', 'With', 'Urls', 'Html', 'To', 'Page', 'Text', 'To', 'Page', 'Failed', 'Selector', 'If', 'Urls', 'Like Java', 'Script', 'Sync', 'Sync', 'Urls', 'Html', 'To', 'Page', 'Text', 'To', 'Page', 'Failed', 'Selector', 'You', 'So', 'Thinking', 'Sync', 'Html', 'To', 'Page', 'Urls', 'Each', 'Url', 'Sync', 'Url', 'Html', 'To', 'Page', 'Text', 'To', 'Page', 'All', 'Text', 'To', 'Page', 'Argh', 'Selector', 'Try', 'That', 'But', 'Html', 'To', 'Page', 'Urls', 'And', 'Text', 'To', 'Page', 'All', 'Catch', 'Text', 'To', 'Page', 'Argh', 'Always', 'Selector', 'But', 'This', 'Urls', 'Each', 'Url', 'Fetch', 'Url', 'Html', 'To', 'Page', 'Each Creating', 'We', 'Urls', 'Start', 'Promise', 'Loop', 'Urls', 'Each', 'Url', 'Add', 'Url', 'Html', 'To', 'Page', 'This', 'Promise', 'Promise', 'Promise Promise', 'Hello', 'Promise', 'Loop', 'Urls', 'Url', 'Add', 'Url', 'Html', 'To', 'Page', 'Promise', 'This', 'Promise', 'Let', 'Html', 'To', 'Page', 'Urls', 'Url', 'Once', 'Url', 'Html', 'To', 'Page', 'Promise', 'And', 'Text', 'To', 'Page', 'All', 'Catch', 'Text', 'To', 'Page', 'Argh', 'Always', 'Selector', 'Try', 'And', 'Browsers', 'Promise', 'Of', 'Promises', 'Of', 'Results', 'Promise', 'Html', 'To', 'Page', 'Take', 'Promise', 'Map', 'Urls', 'Now', 'Loop', 'Each', 'Html', 'To', 'Page', 'Text', 'To', 'Page', 'All', 'Text', 'To', 'Page', 'Argh', 'Selector', 'Try', 'Depending', 'Html', 'To', 'Page', 'Map', 'This', 'Urls', 'Promise', 'Use', 'Wait', 'Promise', 'Html', 'To', 'Page', 'Promise', 'Text', 'To', 'Page', 'All', 'Text', 'To', 'Page', 'Argh', 'Selector', 'Try', 'And', 'It', 'Node', 'Bonus', 'This', 'Generator', 'Notice', 'Generator', 'But', 'Well', 'Func', 'Promise', 'Promise', 'Fulfilled', 'Rejected', 'Func', 'Fulfilled', 'Rejected', 'Fulfilled', 'Java', 'Script', 'Html', 'To', 'Page', 'Map', 'This', 'Promises', 'Urls', 'Promise', 'Promises', 'Wait', 'Promise', 'Html', 'To', 'Page', 'Text', 'To', 'Page', 'All', 'Text', 'To', 'Page', 'Argh', 'Selector', 'Try', 'This', 'Chrome', 'Opera', 'Microsoft Edge', 'Enable', 'Java', 'Script', 'This', 'Java', 'Script', 'This', 'Promise', 'All', 'Chrome', 'Opera', 'Firefox', 'Microsoft Edge', 'Safari', 'Static Methods', 'Method', 'Promise', 'Returns', 'Promise', 'Promise', 'Promise', 'Make', 'Error', 'Promise', 'Note', 'Promise', 'Promise', 'Constructor Constructor', 'Promise', 'Error', 'Any', 'Methods Instance', 'Methods', 'Fulfilled', 'Rejected', 'Fulfilled', 'Rejected', 'Fulfilled', 'Rejected', 'Fulfilled', 'Rejected Promise', 'Rejected', 'Sugar', 'Rejected', 'Feedback Was', 'Many', 'Anne', 'Kesteren', 'Domenic Denicola', 'Tom Ashworth', 'Remy Sharp', 'Addy Osmani', 'Arthur Evans', 'Yutaka Hirano', 'Mathias Bynens', 'Except', 'Creative Commons', 'Attribution', 'License', 'Apache', 'License', 'Site Policies', 'Oracle', 'Chromium', 'Chromium', 'Dev', 'Twitter', 'Topics Training', 'Partners Contribute', 'Terms Privacy']\n"
     ]
    }
   ],
   "source": [
    "print(nltk.regexp_tokenize(text, nltk_prefix + pattern))"
   ]
  },
  {
   "cell_type": "markdown",
   "metadata": {},
   "source": [
    "# Exercises\n",
    "## Chapter 3 n.10\n",
    "\n",
    "☼ Rewrite the following loop as a list comprehension:\n",
    "\n",
    "```python\n",
    ">>> sent = ['The', 'dog', 'gave', 'John', 'the', 'newspaper']\n",
    ">>> result = []\n",
    ">>> for word in sent:\n",
    "...     word_len = (word, len(word))\n",
    "...     result.append(word_len)\n",
    ">>> result\n",
    "[('The', 3), ('dog', 3), ('gave', 4), ('John', 4), ('the', 3), ('newspaper', 9)]\n",
    "```"
   ]
  },
  {
   "cell_type": "code",
   "execution_count": 185,
   "metadata": {},
   "outputs": [
    {
     "name": "stdout",
     "output_type": "stream",
     "text": [
      "[('The', 3), ('dog', 3), ('gave', 4), ('John', 4), ('the', 3), ('newspaper', 9)]\n"
     ]
    }
   ],
   "source": [
    "print([(word, len(word)) for word in ['The', 'dog', 'gave', 'John', 'the', 'newspaper']])"
   ]
  },
  {
   "cell_type": "code",
   "execution_count": null,
   "metadata": {},
   "outputs": [],
   "source": []
  }
 ],
 "metadata": {
  "kernelspec": {
   "display_name": "Python 3",
   "language": "python",
   "name": "python3"
  },
  "language_info": {
   "codemirror_mode": {
    "name": "ipython",
    "version": 3
   },
   "file_extension": ".py",
   "mimetype": "text/x-python",
   "name": "python",
   "nbconvert_exporter": "python",
   "pygments_lexer": "ipython3",
   "version": "3.6.5"
  }
 },
 "nbformat": 4,
 "nbformat_minor": 2
}
