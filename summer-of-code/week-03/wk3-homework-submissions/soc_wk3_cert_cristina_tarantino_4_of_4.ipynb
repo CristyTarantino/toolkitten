{
 "cells": [
  {
   "cell_type": "code",
   "execution_count": 2,
   "metadata": {},
   "outputs": [
    {
     "ename": "SyntaxError",
     "evalue": "invalid syntax (<ipython-input-2-72bb95be2d0d>, line 9)",
     "output_type": "error",
     "traceback": [
      "\u001b[0;36m  File \u001b[0;32m\"<ipython-input-2-72bb95be2d0d>\"\u001b[0;36m, line \u001b[0;32m9\u001b[0m\n\u001b[0;31m    Do research to see what Python libraries are already in existence that you could start using in your day-job, or daily life.\u001b[0m\n\u001b[0m              ^\u001b[0m\n\u001b[0;31mSyntaxError\u001b[0m\u001b[0;31m:\u001b[0m invalid syntax\n"
     ]
    }
   ],
   "source": [
    "# 1 Million Women To Tech:  Summer of Code\n",
    "\n",
    "## Week 3 - Intro to NLP \n",
    "\n",
    "### Day 3 Homeworks - Cristina Tarantino\n",
    "\n",
    "\n",
    "Homework\n",
    "Do research to see what Python libraries are already in existence that you could start using in your day-job, or daily life.\n",
    "\n",
    "\n",
    "\n",
    "Exercises on WordNet\n",
    "\n",
    "#5 ☼ Investigate the holonym-meronym relations for some nouns. Remember that there are three kinds of holonym-meronym relation, so you need to use: member_meronyms(), part_meronyms(), substance_meronyms(), member_holonyms(), part_holonyms(), and substance_holonyms().\n",
    "#13 ◑ What percentage of noun synsets have no hyponyms? You can get all noun synsets using wn.all_synsets('n').\n",
    "#14 ◑ Define a function supergloss(s) that takes a synset s as its argument and returns a string consisting of the concatenation of the definition of s, and the definitions of all the hypernyms and hyponyms of s.\n",
    "Optional\n",
    "For those of you more advanced, try implementing\n",
    "\n",
    "- #23 ★ Zipf's Law: Let f(w) be the frequency of a word w in free text. Suppose that all the words of a text are ranked according to their frequency, with the most frequent word first. Zipf's law states that the frequency of a word type is inversely proportional to its rank (i.e. f × r = k, for some constant k). For example, the 50th most common word type should occur three times as frequently as the 150th most common word type.\n",
    "\n",
    "Write a function to process a large text and plot word frequency against word rank using pylab.plot. Do you confirm Zipf's law? (Hint: it helps to use a logarithmic scale). What is going on at the extreme ends of the plotted line?\n",
    "\n",
    "Generate random text, e.g., using random.choice(\"abcdefg \"), taking care to include the space character. You will need to import random first. Use the string concatenation operator to accumulate characters into a (very) long string. Then tokenize this string, and generate the Zipf plot as before, and compare the two plots. What do you make of Zipf's Law in the light of this?"
   ]
  },
  {
   "cell_type": "markdown",
   "metadata": {},
   "source": [
    "Do research to see what Python libraries are already in existence that you could start using in your day-job, or daily life.\n",
    "\n",
    "- I often use libraries for getting url and consume apis\n",
    "    - json\n",
    "    - request "
   ]
  },
  {
   "cell_type": "code",
   "execution_count": 5,
   "metadata": {},
   "outputs": [],
   "source": [
    "import json\n",
    "import requests"
   ]
  },
  {
   "cell_type": "markdown",
   "metadata": {},
   "source": [
    "# Exercises on WordNet\n",
    "\n",
    "## Chapter 2 n.5\n",
    "\n",
    "☼ Investigate the holonym-meronym relations for some nouns. Remember that there are three kinds of holonym-meronym relation, so you need to use: member_meronyms(), part_meronyms(), substance_meronyms(), member_holonyms(), part_holonyms(), and substance_holonyms().\n",
    "\n",
    "N.B.\n",
    "- **meronyms** of a noun are the noun's components. \n",
    "    - For example, the **parts of a tree** are its trunk, crown, and so on; the **part_meronyms()**\n",
    "    - The **substance a tree is made of** includes heartwood and sapwood; the **substance_meronyms()**.\n",
    "- **holonyms** of a noun are the category they are contained in.\n",
    "    - A **collection of trees** forms a forest; the **member_holonyms()**."
   ]
  },
  {
   "cell_type": "code",
   "execution_count": 13,
   "metadata": {},
   "outputs": [
    {
     "name": "stdout",
     "output_type": "stream",
     "text": [
      "[nltk_data] Downloading package wordnet to ./nltk_data...\n",
      "[nltk_data]   Package wordnet is already up-to-date!\n"
     ]
    }
   ],
   "source": [
    "import nltk\n",
    "nltk.download(\"wordnet\", download_dir='./nltk_data')\n",
    "nltk.data.path.append('./nltk_data')\n",
    "from nltk.corpus import wordnet as wn"
   ]
  },
  {
   "cell_type": "code",
   "execution_count": 18,
   "metadata": {},
   "outputs": [],
   "source": [
    "def relations(noun):\n",
    "    noun_synset = wn.synset(noun)\n",
    "    print('Member Meronyms: ', noun_synset.member_meronyms())\n",
    "    print('Part Meronymns: ', noun_synset.part_meronyms())\n",
    "    print('Substance Meronyms: ', noun_synset.substance_meronyms())\n",
    "    print('Member Holonyms: ', noun_synset.member_holonyms())\n",
    "    print('Part Holonyms: ', noun_synset.part_holonyms())\n",
    "    print('Substance Holonyms: ', noun_synset.substance_holonyms())"
   ]
  },
  {
   "cell_type": "code",
   "execution_count": 32,
   "metadata": {},
   "outputs": [
    {
     "name": "stdout",
     "output_type": "stream",
     "text": [
      "Member Meronyms:  []\n",
      "Part Meronymns:  [Synset('burl.n.02'), Synset('crown.n.07'), Synset('limb.n.02'), Synset('stump.n.01'), Synset('trunk.n.01')]\n",
      "Substance Meronyms:  [Synset('heartwood.n.01'), Synset('sapwood.n.01')]\n",
      "Member Holonyms:  [Synset('forest.n.01')]\n",
      "Part Holonyms:  []\n",
      "Substance Holonyms:  []\n"
     ]
    }
   ],
   "source": [
    "wn.synsets('tree')[0]\n",
    "relations('tree.n.01')"
   ]
  },
  {
   "cell_type": "code",
   "execution_count": 48,
   "metadata": {},
   "outputs": [
    {
     "name": "stdout",
     "output_type": "stream",
     "text": [
      "Member Meronyms:  []\n",
      "Part Meronymns:  [Synset('achromatin.n.01'), Synset('chromatin.n.01'), Synset('chromosome.n.01'), Synset('linin.n.01'), Synset('nucleolus.n.01')]\n",
      "Substance Meronyms:  [Synset('nucleoplasm.n.01')]\n",
      "Member Holonyms:  []\n",
      "Part Holonyms:  [Synset('cell.n.02')]\n",
      "Substance Holonyms:  []\n"
     ]
    }
   ],
   "source": [
    "wn.synsets('nucleus')[0]\n",
    "relations('nucleus.n.01')"
   ]
  },
  {
   "cell_type": "code",
   "execution_count": 52,
   "metadata": {},
   "outputs": [
    {
     "name": "stdout",
     "output_type": "stream",
     "text": [
      "Member Meronyms:  []\n",
      "Part Meronymns:  [Synset('blackhead.n.01'), Synset('dermis.n.01'), Synset('epidermis.n.01'), Synset('freckle.n.01'), Synset('free_nerve_ending.n.01'), Synset('liver_spot.n.01'), Synset('macule.n.01'), Synset('pacinian_corpuscle.n.01'), Synset('pore.n.02'), Synset('pressure_point.n.03'), Synset('scab.n.02'), Synset('skin_cell.n.01'), Synset('sweat_gland.n.01'), Synset('whitehead.n.02'), Synset('wrinkle.n.01')]\n",
      "Substance Meronyms:  [Synset('melanin.n.01')]\n",
      "Member Holonyms:  []\n",
      "Part Holonyms:  [Synset('integumentary_system.n.01')]\n",
      "Substance Holonyms:  []\n"
     ]
    }
   ],
   "source": [
    "wn.synsets('skin')[0]\n",
    "relations('skin.n.01')"
   ]
  }
 ],
 "metadata": {
  "kernelspec": {
   "display_name": "Python 3",
   "language": "python",
   "name": "python3"
  },
  "language_info": {
   "codemirror_mode": {
    "name": "ipython",
    "version": 3
   },
   "file_extension": ".py",
   "mimetype": "text/x-python",
   "name": "python",
   "nbconvert_exporter": "python",
   "pygments_lexer": "ipython3",
   "version": "3.6.5"
  }
 },
 "nbformat": 4,
 "nbformat_minor": 2
}
